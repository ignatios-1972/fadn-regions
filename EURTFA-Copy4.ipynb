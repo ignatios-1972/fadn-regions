{
 "cells": [
  {
   "cell_type": "code",
   "execution_count": null,
   "metadata": {
    "scrolled": false
   },
   "outputs": [],
   "source": [
    "import pandas as pd\n",
    "import numpy as np\n",
    "import holoviews as hv\n",
    "from holoviews import opts, dim\n",
    "import panel as pn\n",
    "import panel.widgets as pnw\n",
    "pn.extension()\n",
    "hv.extension('bokeh')"
   ]
  },
  {
   "cell_type": "code",
   "execution_count": null,
   "metadata": {
    "scrolled": false
   },
   "outputs": [],
   "source": [
    "#Loading standard results\n",
    "import numpy as np\n",
    "import pandas as pd\n",
    "df0 = pd.read_csv('regions_fadn.csv')"
   ]
  },
  {
   "cell_type": "code",
   "execution_count": null,
   "metadata": {},
   "outputs": [],
   "source": [
    "choose = ['YEAR','REGION','TF14']\n",
    "cols_bal = ['SE446','SE450','SE455','SE460','SE470','SE475','SE480']\n",
    "cols_inc = ['SE135', 'SE206', 'SE256', 'SE281', 'SE336', 'SE600','SE360', 'SE370', 'SE375', 'SE380', 'SE420']\n",
    "cols_com = ['SE011','SE025','SE080','SE131','SE132','SE135','SE136','SE206','SE207','SE256',\n",
    "            'SE270','SE360','SE441','SE455','SE420','SE605']\n",
    "oles = list(set(choose + cols_bal + cols_inc + cols_com + ['FADN_2012_']))\n",
    "negs = ['SE281', 'SE336', 'SE275', 'SE370', 'SE360', 'SE375', 'SE380', 'SE365']\n",
    "names = {'SE011':'Total Hours', 'SE025': 'Total Area', 'SE080': 'Livestock Units', 'SE131': 'Total Output',\n",
    "         'SE132': 'T.Output/T.Costs', 'SE135': 'Crop Output', 'SE136': 'Cr.Out/Ha', 'SE206': 'Livestock Output',\n",
    "         'SE207':'Lv.Out/L.Uni', 'SE256': 'Other Output', 'SE270': 'Total Costs', 'SE281': 'Tot.Spec.Costs',\n",
    "         'SE336': 'Tot.Farm.Overheads', 'SE360': 'Depreciation', 'SE370': 'Wages', 'SE375': 'Rent', 'SE380': 'Interest',\n",
    "         'SE420': 'Family Income', 'SE436': 'Tot. assets', 'SE441': 'Fixed Assets', 'SE446': 'Land etc',\n",
    "         'SE450': 'Buildings', 'SE455': 'Machinery', 'SE460': 'Br.liv', 'SE465': 'Tot. cur. assets',\n",
    "         'SE470': 'Non-br. liv', 'SE475': 'Prod. stock', 'SE480': 'Oth. circul. ',\n",
    "         'SE600': 'Bal.Subs&Taxes', 'SE605': 'Subsidies'}\n",
    "\n",
    "colors_out = ['#C70039', '#66DDF0']\n",
    "colors_in = ['#66DDF0', '#C70039' ]\n",
    "inputs = ['Total Hours', 'Total Area', 'Total Costs', 'Depreciation', 'Total Assets', 'Machinery']\n",
    "outputs = ['T.Output/T.Costs', 'Crop Output', 'Cr.Out/Ha', 'Livestock Output', 'Lv.Out/L.Uni', 'Family Income', 'Subsidies']\n",
    "ranks= {}\n",
    "sygr = {}"
   ]
  },
  {
   "cell_type": "code",
   "execution_count": null,
   "metadata": {
    "scrolled": false
   },
   "outputs": [],
   "source": [
    "year1 = pnw.Select(name='Year', options=list(df0.YEAR.unique()))\n",
    "perif1  = pnw.Select(name='Region', options=sorted(list(df0.REGION.unique())))\n",
    "tf1  = pnw.Select(name='TF14', options=list(df0.TF14.unique()))\n",
    "\n",
    "@pn.depends(perif1.param.value, tf1.param.value, year1.param.value )\n",
    "def assets1(perif,tf,year):\n",
    "    bal = df[choose + cols_bal]\n",
    "    inc = df[choose + cols_inc]\n",
    "    com = df[choose + cols_com]\n",
    "    counter = df.YEAR[(df['REGION'] == perif) & (df['TF14'] == tf) & (df['YEAR'] == int(year))].count()\n",
    "    if counter == 1:\n",
    "        reg = com[(com['REGION'] == perif) & (com['TF14'] == tf) & (com['YEAR'] == int(year))]\n",
    "        frame = com[(com['TF14'] == tf) & (com['YEAR'] == int(year)) & (com['REGION'] != 'All')]\n",
    "        for var in cols_com:\n",
    "            reg_val = reg[var].values[0]\n",
    "            ranked_list = list(frame[var])\n",
    "            ranked_list.append(reg_val)\n",
    "            ranked_list = sorted(ranked_list)\n",
    "            ranks[names[var]] = ranked_list.index(reg_val) + 1\n",
    "            mesos, typikh = frame[var].mean(), frame[var].std()\n",
    "            if typikh !=0:\n",
    "                sygr[names[var]] = (reg_val - mesos) / typikh\n",
    "            else:\n",
    "                sygr[names[var]] = 0\n",
    "        scatter0 = hv.Scatter((sygr))\n",
    "        spikes = hv.Spikes(scatter0)\n",
    "        eis = spikes[inputs].redim.range(y=(-2,2)) * scatter0[inputs]\n",
    "        eis.opts(\n",
    "            opts.Scatter(height=300, width=350, size=20, fill_color='#949194', tools=['hover']),\n",
    "            opts.Spikes(color=dim('y').norm(), cmap=colors_in, line_width=20, invert_axes=True))\n",
    "        eja =  spikes[outputs].redim.range(y=(-2,2)) * scatter0[outputs]\n",
    "        eja.opts(\n",
    "            opts.Scatter(height=300, width=350,size=20, fill_color='#949194', tools=['hover']),\n",
    "            opts.Spikes(color=dim('y').norm(), cmap=colors_out, line_width=20, invert_axes=True))\n",
    "        pre_lay = eis.relabel('Less is better').redim.label(y=\"Std's\", x='Variable') + \\\n",
    "              eja.relabel('More is better').redim.label(y=\"Std's\", x='Variable')\n",
    "        pre_lay.opts(shared_axes=False, toolbar='right')\n",
    "        lay = pn.Row(pre_lay)\n",
    "    else:\n",
    "        ign = \"Doesn't exist\"\n",
    "        ign1 = \"!!!!\"\n",
    "        ign2 = \"%%%\"\n",
    "        lay = pn.Row(ign , ign1 , ign2)\n",
    "    return lay\n",
    "\n",
    "\n",
    "widgets1 = pn.Row(\"<br>\\n###Select Region/Type of Crop/Year\", perif1, tf1, year1, width=1400, background='#CCDED5')\n",
    "ign = pn.Column(widgets1, assets1)\n",
    "\n",
    "ign.servable()"
   ]
  },
  {
   "cell_type": "code",
   "execution_count": null,
   "metadata": {},
   "outputs": [],
   "source": []
  }
 ],
 "metadata": {
  "kernelspec": {
   "display_name": "Python 3",
   "language": "python",
   "name": "python3"
  },
  "language_info": {
   "codemirror_mode": {
    "name": "ipython",
    "version": 3
   },
   "file_extension": ".py",
   "mimetype": "text/x-python",
   "name": "python",
   "nbconvert_exporter": "python",
   "pygments_lexer": "ipython3",
   "version": "3.7.3"
  }
 },
 "nbformat": 4,
 "nbformat_minor": 2
}
